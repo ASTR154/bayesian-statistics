{
 "cells": [
  {
   "cell_type": "markdown",
   "metadata": {},
   "source": [
    "# Fitting a Line to Some Noisy Data\n",
    "By Griffin Hosseinzadeh (2019 April 17)  \n",
    "Updated by Charlotte Mason (2020 August 28)  \n",
    "Updated by Griffin Hosseinzadeh (2025 April 28)  "
   ]
  },
  {
   "cell_type": "code",
   "execution_count": 2,
   "metadata": {},
   "outputs": [],
   "source": [
    "import numpy as np\n",
    "import matplotlib.pyplot as plt"
   ]
  },
  {
   "cell_type": "markdown",
   "metadata": {},
   "source": [
    "## Generate Some Fake Data\n",
    "Choose a slope $m$, intercept $b$, and scatter $\\sigma$, and generate $N$ random points using the `np.random` module. Plot the results to see what your data look like. Our goal is to recover the parameters defined here. (You are free to change them to whatever you want, but be aware that your plots may look different than others'.)"
   ]
  },
  {
   "cell_type": "code",
   "execution_count": 33,
   "metadata": {},
   "outputs": [
    {
     "data": {
      "text/plain": [
       "<ErrorbarContainer object of 3 artists>"
      ]
     },
     "execution_count": 33,
     "metadata": {},
     "output_type": "execute_result"
    },
    {
     "data": {
      "image/png": "[encoded data removed]",
      "text/plain": [
       "<Figure size 432x288 with 1 Axes>"
      ]
     },
     "metadata": {
      "needs_background": "light"
     },
     "output_type": "display_data"
    }
   ],
   "source": [
    "N = 100  # number of points\n",
    "m = 10.  # slope\n",
    "b = 50.  # intercept\n",
    "sigma = 1.  # scatter\n",
    "\n",
    "rng = np.random.default_rng()\n",
    "x =  rng.uniform(0,1,N) \n",
    "y = (m * x) + b + rng.normal(0, sigma, size = N) \n",
    "dy = np.repeat(sigma, N)\n",
    "plt.scatter(x, y)\n",
    "plt.errorbar(x, y, yerr = dy, linestyle = 'none')"
   ]
  },
  {
   "cell_type": "markdown",
   "metadata": {},
   "source": [
    "## Write Down the Posterior\n",
    "Define functions that return the prior, the likelihood, and the posterior given a parameter vector `theta = [m, b]`. For computational accuracy (and convenience), we actually want to do this in log space. Regardless of the shape of your prior, it's good practice to limit the values of $m$ and $b$ to some reasonable range.\n",
    "\n",
    "**Bayes Theorem**\n",
    "\n",
    "The posterior is proportional to the likelihood $\\mathcal{L}$ times the prior on the parameters $\\boldsymbol{\\theta} = m, b$:\n",
    "\n",
    "$$ p(\\boldsymbol{\\theta} | \\mathrm{data}) \\propto \\mathcal{L}(\\mathrm{data} | \\boldsymbol{\\theta}) \\times p(\\boldsymbol{\\theta}) $$\n",
    "\n",
    "**Likelihood**\n",
    "\n",
    "Assuming Gaussian errors, the likelihood for each data point given the model with parameters $\\theta$ will be:\n",
    "\n",
    "$$ \\mathcal{L}_i(y_i | \\boldsymbol{\\theta}, x_i, \\sigma_i) = \\frac{1}{\\sqrt{2\\pi \\sigma_i^2}} \\exp\\left[-\\frac{(y_i - y_\\mathrm{model}(x_i, \\boldsymbol{\\theta}))^2}{2 \\sigma_i^2}\\right] $$\n",
    "\n",
    "Or in log space:\n",
    "\n",
    "$$ \\ln \\mathcal{L}_i(y_i | \\boldsymbol{\\theta}, x_i, \\sigma_i) = -\\frac{1}{2} \\left( \\ln{2\\pi \\sigma_i^2}  + \\left[\\frac{y_i - y_\\mathrm{model}(x_i, \\boldsymbol{\\theta})}{\\sigma_i}\\right]^2 \\right) $$\n",
    "\n",
    "Assuming the data are independent, the likelihood for obtaining all of the data points is the product of the individual likelihoods:\n",
    "\n",
    "$$ \\mathcal{L}(\\mathbf{y} | \\boldsymbol{\\theta}, \\mathbf{x}, \\boldsymbol{\\sigma}) = \\prod_i \\mathcal{L}_i(y_i | \\boldsymbol{\\theta}, x_i, \\sigma_i) $$\n",
    "\n",
    "Or in log space you can sum the log likelihoods:\n",
    "\n",
    "$$ \\ln \\mathcal{L} = \\ln \\left(\\prod_i \\mathcal{L}_i \\right) = \\sum_i \\ln \\mathcal{L}_i $$\n",
    "\n",
    "**Prior**\n",
    "\n",
    "The simplest prior is a uniform prior to restrict the parameters to some range, e.g.:\n",
    "\n",
    "$$ m = \\begin{cases}\n",
    "1, & 0 < m < 100\\\\\n",
    "0, & \\mathrm{otherwise}\n",
    "\\end{cases}$$"
   ]
  },
  {
   "cell_type": "code",
   "execution_count": 34,
   "metadata": {},
   "outputs": [],
   "source": [
    "m_min = 0.\n",
    "m_max = 100.\n",
    "b_min = 0.\n",
    "b_max = 100.\n",
    "\n",
    "def log_prior(theta):\n",
    "    m, b = theta\n",
    "    if m_min < m < m_max:\n",
    "        Pm = 1. / m\n",
    "    else:\n",
    "        Pm = 0.\n",
    "    if b_min < b < b_max:\n",
    "        Pb = 1\n",
    "    else:\n",
    "        Pb = 0.\n",
    "    Ptot = Pm * Pb\n",
    "    lnprior = np.log(Ptot)\n",
    "    return lnprior\n",
    "\n",
    "def log_likelihood(theta, x, y, dy):\n",
    "    m, b = theta\n",
    "    ymod = m * x + b\n",
    "    chisq = (y - ymod) ** 2. / dy ** 2.\n",
    "    lnlikelihood = -0.5 * np.sum(chisq)\n",
    "    return lnlikelihood\n",
    "\n",
    "def log_posterior(theta, x, y, dy):\n",
    "    lnposterior = log_prior(theta) + log_likelihood(theta, x, y, dy)\n",
    "    return lnposterior"
   ]
  },
  {
   "cell_type": "markdown",
   "metadata": {},
   "source": [
    "## Evaluate it on a Grid\n",
    "Now that you have defined `log_posterior`, produce a grid of $m$ and $b$ values, and evaluate the posterior at each point on the grid. Plot the results using `plt.contour` (contour plot) or `plt.contourf` (filled contour plot). Plot the input values of $m$ and $b$ as a point to see where they sit in the posterior space."
   ]
  },
  {
   "cell_type": "code",
   "execution_count": 50,
   "metadata": {},
   "outputs": [
    {
     "name": "stderr",
     "output_type": "stream",
     "text": [
      "/var/folders/g7/tfxp633s42vgtl5_b9qmp7w00000gn/T/ipykernel_59276/2476633804.py:17: RuntimeWarning: divide by zero encountered in log\n",
      "  lnprior = np.log(Ptot)\n"
     ]
    },
    {
     "data": {
      "text/plain": [
       "<matplotlib.colorbar.Colorbar at 0x7fa4c923cd00>"
      ]
     },
     "execution_count": 50,
     "metadata": {},
     "output_type": "execute_result"
    },
    {
     "data": {
      "image/png": "[encoded data removed]",
      "text/plain": [
       "<Figure size 432x288 with 2 Axes>"
      ]
     },
     "metadata": {
      "needs_background": "light"
     },
     "output_type": "display_data"
    }
   ],
   "source": [
    "grid_spacing = 1.\n",
    "m_range = np.arange(m_min, m_max + grid_spacing, grid_spacing)\n",
    "b_range = np.arange(b_min, b_max + grid_spacing, grid_spacing)\n",
    "\n",
    "mgrid, bgrid = np.meshgrid(m_range, b_range)\n",
    "\n",
    "thetapair = np.stack([mgrid.ravel(), bgrid.ravel()], axis = -1)\n",
    "\n",
    "posterior_vals = np.array([log_posterior(theta, x, y, dy) for theta in thetapair])\n",
    "\n",
    "posterior_grid = posterior_vals.reshape(mgrid.shape)\n",
    "\n",
    "plt.contourf(mgrid, bgrid, posterior_grid)\n",
    "plt.scatter(m, b)\n",
    "plt.grid(True)\n",
    "plt.colorbar()"
   ]
  },
  {
   "cell_type": "markdown",
   "metadata": {},
   "source": [
    "Find the parameters that maximize the posterior distribution. How close did we come to the parameters we used to generate the data?"
   ]
  },
  {
   "cell_type": "code",
   "execution_count": 42,
   "metadata": {},
   "outputs": [
    {
     "name": "stdout",
     "output_type": "stream",
     "text": [
      "m = 10.0, b = 50.0\n",
      "Δm/m = 0.000, Δb/b = 0.000\n"
     ]
    }
   ],
   "source": [
    "# Find the indices where the posterior is maximised --> what m and b is this?\n",
    "j_max, i_max = np.unravel_index(np.argmax(posterior_grid), posterior_grid.shape)\n",
    "\n",
    "m_infer = m_range[i_max]\n",
    "b_infer = b_range[j_max]\n",
    "print(f'm = {m_infer:.1f}, b = {b_infer:.1f}')\n",
    "\n",
    "# Fractional error of the inferred solution compared to the input 'true' parameters\n",
    "m_frac_err = abs(m_infer - m) / m\n",
    "b_frac_err = abs(b_infer - b) / b\n",
    "print(f'Δm/m = {m_frac_err:.3f}, Δb/b = {b_frac_err:.3f}')"
   ]
  },
  {
   "cell_type": "markdown",
   "metadata": {},
   "source": [
    "### Marginalize Over Each Parameter\n",
    "Since you have a grid of points, it is easy to integrate (sum) along the rows and columns of the grid. Use this method to find the marginalized posterior for each parameter and plot the results. How do the peaks of these distributions compare to our input parameters? (Hint: use the `axis` keyword in `np.sum`.) (Another hint: integrate the probability, not the log of the probability.)\n",
    "\n",
    "**Marginalization**\n",
    "\n",
    "If we just want to know the posterior for one parameter, we need to marginalize over all the possible values of the other parameter(s).\n",
    "\n",
    "$$ p(\\theta_1 | \\mathrm{data}) = \\int p(\\theta_1, \\theta_2 | \\mathrm{data}) \\, d\\theta_2 $$"
   ]
  },
  {
   "cell_type": "code",
   "execution_count": 47,
   "metadata": {},
   "outputs": [
    {
     "data": {
      "text/plain": [
       "[<matplotlib.lines.Line2D at 0x7fa4c9143e20>]"
      ]
     },
     "execution_count": 47,
     "metadata": {},
     "output_type": "execute_result"
    },
    {
     "data": {
      "image/png": "[encoded data removed]",
      "text/plain": [
       "<Figure size 432x288 with 1 Axes>"
      ]
     },
     "metadata": {
      "needs_background": "light"
     },
     "output_type": "display_data"
    },
    {
     "data": {
      "image/png": "[encoded data removed]",
      "text/plain": [
       "<Figure size 432x288 with 1 Axes>"
      ]
     },
     "metadata": {
      "needs_background": "light"
     },
     "output_type": "display_data"
    }
   ],
   "source": [
    "posterior_lin = np.exp(posterior_grid - np.max(posterior_grid)) \n",
    "\n",
    "posterior_marginalized_m = np.sum(posterior_lin, axis = 0)\n",
    "plt.figure()\n",
    "plt.plot(m_range, posterior_marginalized_m)\n",
    "\n",
    "posterior_marginalized_b = np.sum(posterior_lin, axis=1)\n",
    "plt.figure()\n",
    "plt.plot(b_range, posterior_marginalized_b)"
   ]
  },
  {
   "cell_type": "markdown",
   "metadata": {},
   "source": [
    "## Evaluate it on a Random Sample (Monte Carlo)\n",
    "Instead of evaluating the posterior at every point on the grid, it can be more efficient to evaluate it on a random sample of points within the parameter space. Generate some random points using the `np.random` module and evaluate the posterior at each one. Plot them and color code by the posterior. (Use the `c` parameter of `plt.scatter`). Plot the input values of $m$ and $b$ as a point to see where they sit in the posterior space. How does this plot compare to the plot in the previous section?"
   ]
  },
  {
   "cell_type": "code",
   "execution_count": 48,
   "metadata": {},
   "outputs": [
    {
     "data": {
      "text/plain": [
       "<matplotlib.collections.PathCollection at 0x7fa519304e50>"
      ]
     },
     "execution_count": 48,
     "metadata": {},
     "output_type": "execute_result"
    },
    {
     "data": {
      "image/png": "[encoded data removed]",
      "text/plain": [
       "<Figure size 432x288 with 1 Axes>"
      ]
     },
     "metadata": {
      "needs_background": "light"
     },
     "output_type": "display_data"
    }
   ],
   "source": [
    "m_random = np.random.uniform(m_min, m_max, N)\n",
    "b_random = np.random.uniform(b_min, b_max, N)\n",
    "\n",
    "posterior_random = np.zeros(N)\n",
    "\n",
    "for n in range (N):\n",
    "    theta = [m_random[n], b_random[n]]\n",
    "    posterior_random[n] = log_posterior(theta, x, y, dy)\n",
    "    \n",
    "posterior_random_p = np.exp(posterior_random - np.max(posterior_random))\n",
    "\n",
    "plt.scatter(m_random, b_random, c = posterior_random_p)"
   ]
  },
  {
   "cell_type": "markdown",
   "metadata": {},
   "source": [
    "As before, find the parameters that maximize the posterior distribution. How close did we come to the parameters we used to generate the data?"
   ]
  },
  {
   "cell_type": "code",
   "execution_count": 49,
   "metadata": {},
   "outputs": [
    {
     "name": "stdout",
     "output_type": "stream",
     "text": [
      "m = 13.4, b = 49.8\n",
      "Δm/m = 0.343, Δb/b = 0.004\n"
     ]
    }
   ],
   "source": [
    "# Find the index of the sample where the posterior is maximised --> what m and b is this?\n",
    "i_max = np.argmax(posterior_random)\n",
    "m_infer = m_random[i_max]\n",
    "b_infer = b_random[i_max]\n",
    "print(f'm = {m_infer:.1f}, b = {b_infer:.1f}')\n",
    "\n",
    "# Fractional error of the inferred solution compared to the input 'true' parameters\n",
    "m_frac_err = abs(m_infer - m) / m\n",
    "b_frac_err = abs(b_infer - b) / b\n",
    "print(f'Δm/m = {m_frac_err:.3f}, Δb/b = {b_frac_err:.3f}')"
   ]
  },
  {
   "cell_type": "markdown",
   "metadata": {},
   "source": [
    "Note that it's complicated to calculate the marginalized posteriors using this method. You have to do some kind of binning or interpolation. Don't worry about that for now."
   ]
  },
  {
   "cell_type": "markdown",
   "metadata": {},
   "source": [
    "## Take-Away Message\n",
    "Both methods work, but the point is it's wasteful (and impossible for higher dimensons or large $N$) to be sampling the posterior when the probability density is $e^{-100000}$. Later, we will see a much more efficient sampling method."
   ]
  },
  {
   "cell_type": "markdown",
   "metadata": {},
   "source": [
    "## Other Things to Try\n",
    "- Redo the experiment but with a different prior. How much do your results change? Try plotting the priors on top of your marginalized posteriors.\n",
    "- Redo the experiment but with a much larger scatter. How well do you do? Now do the priors affect your results?\n",
    "- Add another parameter to your model: the intrinsic scatter. See if you can recover the value you used to generate the noisy data."
   ]
  }
 ],
 "metadata": {
  "kernelspec": {
   "display_name": "Python 3 (ipykernel)",
   "language": "python",
   "name": "python3"
  },
  "language_info": {
   "codemirror_mode": {
    "name": "ipython",
    "version": 3
   },
   "file_extension": ".py",
   "mimetype": "text/x-python",
   "name": "python",
   "nbconvert_exporter": "python",
   "pygments_lexer": "ipython3",
   "version": "3.9.12"
  },
  "toc": {
   "base_numbering": 1,
   "nav_menu": {},
   "number_sections": true,
   "sideBar": true,
   "skip_h1_title": false,
   "title_cell": "Table of Contents",
   "title_sidebar": "Contents",
   "toc_cell": false,
   "toc_position": {},
   "toc_section_display": true,
   "toc_window_display": true
  }
 },
 "nbformat": 4,
 "nbformat_minor": 4
}
