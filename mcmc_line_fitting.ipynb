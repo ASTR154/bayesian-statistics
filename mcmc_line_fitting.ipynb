{
 "cells": [
  {
   "cell_type": "markdown",
   "metadata": {},
   "source": [
    "# Fitting a Line Using MCMC\n",
    "By Griffin Hosseinzadeh (2019 April 17)  \n",
    "Updated by Charlotte Mason (2020 August 28)  \n",
    "Updated by Griffin Hosseinzadeh (2025 April 30)"
   ]
  },
  {
   "cell_type": "code",
   "execution_count": null,
   "metadata": {},
   "outputs": [],
   "source": [
    "import numpy as np\n",
    "import matplotlib.pyplot as plt\n",
    "\n",
    "import emcee\n",
    "import corner"
   ]
  },
  {
   "cell_type": "markdown",
   "metadata": {},
   "source": [
    "## Generate Some Fake Data\n",
    "Choose a slope $m$, intercept $b$, and scatter $\\sigma$, and generate $N$ random points using the `np.random` module. Plot the results to see what your data look like. Our goal is to recover the parameters defined here. (Hint: this section is identical to the previous notebook.)"
   ]
  },
  {
   "cell_type": "code",
   "execution_count": 20,
   "metadata": {},
   "outputs": [
    {
     "data": {
      "text/plain": [
       "<ErrorbarContainer object of 3 artists>"
      ]
     },
     "execution_count": 20,
     "metadata": {},
     "output_type": "execute_result"
    },
    {
     "data": {
      "image/png": "[encoded data removed]",
      "text/plain": [
       "<Figure size 640x480 with 1 Axes>"
      ]
     },
     "metadata": {},
     "output_type": "display_data"
    }
   ],
   "source": [
    "m = -9.8\n",
    "b= 100\n",
    "sigma = 1.\n",
    "N = 100\n",
    "numbers = np.random.rand(100) \n",
    "\n",
    "\n",
    "\n",
    "#plt.plot(numbers, numbers*m+b + np.random.normal(loc=0,scale=sigma,size=N))\n",
    "\n",
    "plt.errorbar(numbers, numbers*m+b + np.random.normal(loc=0,scale=sigma,size=N), yerr=sigma, fmt=\"o\", capsize=3)\n"
   ]
  },
  {
   "cell_type": "markdown",
   "metadata": {},
   "source": [
    "## Write Down the Posterior\n",
    "Define functions that return the prior, the likelihood, and the posterior given a parameter vector `theta = [m, b]`. For computational accuracy (and convenience), we actually want to do this in log space. You can either use `np.log` (natural log) or `np.log10` (base-10 log). Regardless of the shape of your prior, it's good practice to limit the values of $m$ and $b$ to some reasonable range. (Hint: this section is identical to the previous notebook.)"
   ]
  },
  {
   "cell_type": "code",
   "execution_count": 28,
   "metadata": {},
   "outputs": [],
   "source": [
    "scale = 50\n",
    "m_min = m - scale\n",
    "m_max = m + scale\n",
    "b_min = b - scale\n",
    "b_max = b + scale"
   ]
  },
  {
   "cell_type": "code",
   "execution_count": 29,
   "metadata": {},
   "outputs": [],
   "source": [
    "def log_prior(theta):\n",
    "    if theta[0]>m_min and theta[0]<m_max and theta[1]>b_min and theta[1]<b_max:\n",
    "        #case where probability = 1\n",
    "        ln_prior = 0.\n",
    "    else:\n",
    "        #case when probability = 0\n",
    "        ln_prior = -np.inf\n",
    "    return ln_prior\n",
    "\n",
    "def log_likelihood(theta, x, y, dy):\n",
    "    sum1 = 0\n",
    "    for i in range(N):\n",
    "        sum1 += (-0.5)*(np.log(2*np.pi*dy**2) + ((y - (x*theta[0] + theta[1]))/dy)**2)\n",
    "    return sum1\n",
    "    \n",
    "def log_posterior(theta, x, y, dy):\n",
    "    ans = log_likelihood(theta, x, y, dy) + log_prior(theta)\n",
    "    return ans"
   ]
  },
  {
   "cell_type": "markdown",
   "metadata": {},
   "source": [
    "## Set Up the Ensemble Sampler\n",
    "This time we will use the `emcee` package that you imported above to sample the posterior probability distribution. Everything you need is contained within the `emcee.EnsembleSampler` class. Initialize this with 100 walkers and the `log_posterior` function you defined above. Don't forget that `log_posterior` takes additional arguments `x`, `y`, and `dy`. (Hint: check the documentation for `EnsembleSampler` for how to deal with this.)\n",
    "\n",
    "Note, we will initialise the sampler in #1.5"
   ]
  },
  {
   "cell_type": "code",
   "execution_count": 30,
   "metadata": {},
   "outputs": [],
   "source": [
    "n_walkers = 100\n",
    "n_params =  2\n",
    "args =  3"
   ]
  },
  {
   "cell_type": "markdown",
   "metadata": {},
   "source": [
    "## Setup random initial guesses for the starting positions\n",
    "\n",
    "You'll need to give initial guesses for each walker, which you can draw randomly from the prior. "
   ]
  },
  {
   "cell_type": "code",
   "execution_count": 65,
   "metadata": {},
   "outputs": [
    {
     "name": "stdout",
     "output_type": "stream",
     "text": [
      "[[0.08913754 0.7892679  0.25783899 0.99170727 0.40212576 0.22972438\n",
      "  0.17694997 0.16968937 0.68963448 0.03206451 0.88343609 0.34730523\n",
      "  0.71707094 0.01174262 0.80153884 0.08796243 0.43473531 0.83519522\n",
      "  0.30575927 0.90437806 0.00957914 0.44384823 0.75927533 0.33919933\n",
      "  0.14495354 0.36241393 0.18878985 0.32264931 0.51040024 0.39963461\n",
      "  0.65083266 0.05294032 0.00126298 0.38498839 0.92310583 0.00256053\n",
      "  0.32813604 0.69315429 0.91825834 0.60748834 0.05459274 0.98104804\n",
      "  0.98137788 0.98584516 0.8468037  0.21804261 0.4198007  0.2264028\n",
      "  0.23719482 0.9988596  0.86206593 0.0060587  0.60323389 0.89134937\n",
      "  0.37800457 0.6747939  0.4778601  0.97449681 0.39401474 0.63250901\n",
      "  0.93340526 0.30182622 0.41619783 0.57677367 0.20953925 0.39057095\n",
      "  0.29612412 0.38676379 0.48240384 0.71133334 0.74071661 0.56870722\n",
      "  0.06616869 0.46455765 0.76225349 0.04102803 0.45401173 0.12154104\n",
      "  0.07359345 0.0446419  0.52046683 0.81826813 0.79776714 0.21980364\n",
      "  0.754871   0.95993271 0.20811886 0.38029168 0.94132307 0.40206401\n",
      "  0.7216698  0.58825944 0.09320704 0.54580855 0.98841752 0.86665722\n",
      "  0.06059582 0.73274796 0.3446589  0.62151283]\n",
      " [0.60900375 0.21622331 0.87585407 0.16187918 0.8897648  0.14734574\n",
      "  0.35187445 0.59182012 0.66017984 0.94319064 0.40778458 0.58546438\n",
      "  0.96493313 0.35517006 0.26415038 0.51937116 0.67666215 0.38906841\n",
      "  0.33145344 0.89417886 0.61458952 0.35806919 0.5564975  0.90386458\n",
      "  0.74927262 0.35685488 0.8460736  0.31111512 0.63088162 0.83369499\n",
      "  0.59143276 0.04749351 0.41573092 0.47629256 0.24405745 0.41050328\n",
      "  0.73560786 0.50445962 0.50838339 0.73019225 0.13785721 0.55538411\n",
      "  0.09668876 0.22210357 0.53964734 0.67265453 0.18705479 0.24939356\n",
      "  0.64275781 0.57005829 0.6394834  0.6892626  0.10090552 0.47506618\n",
      "  0.5321532  0.69264893 0.46210012 0.8541096  0.35294288 0.44173166\n",
      "  0.61618048 0.31007668 0.71899236 0.12881316 0.22371959 0.23911309\n",
      "  0.72782095 0.89428371 0.72201857 0.81256436 0.77213689 0.1215039\n",
      "  0.62259571 0.51814762 0.64648412 0.24230347 0.32245297 0.92764505\n",
      "  0.57197509 0.02164037 0.41459307 0.35113567 0.93789151 0.49546835\n",
      "  0.34849785 0.04071037 0.26983812 0.57694315 0.28513891 0.41418073\n",
      "  0.91742249 0.68009865 0.15952069 0.88032727 0.98804599 0.40326439\n",
      "  0.12296904 0.70753523 0.20477837 0.62653449]]\n"
     ]
    }
   ],
   "source": [
    "m_random = m_min + np.random.rand(1)*(m_max - m_min)\n",
    "b_random = b_min + np.random.rand(1)*(b_max - b_min)\n",
    "\n",
    "rand_array = np.random.rand(2, n_walkers)\n",
    "\n",
    "intial guesses = \n",
    "\n",
    "#intial guesses = \n",
    "\n",
    "#initial_guesses =  np.array([[],[]])\n",
    "#for i in range(n_walkers):\n",
    "#    intial_guesses = np.append(initial_guesses, m_min + np.random.rand(1)*(m_max - m_min))\n",
    "#    #initial_guesses[1].append(b_min + np.random.rand(1)*(b_max - b_min))\n",
    "\n",
    "\n",
    "#random[0], b_random[0]\n",
    "#print(initial_guesses)"
   ]
  },
  {
   "cell_type": "markdown",
   "metadata": {},
   "source": [
    "## Initialize and run!\n",
    "\n",
    "Initialize the `EnsembleSampler` object and then run it with the `run_mcmc` method. For now, 10000 steps is more than enough, and should run in less than a minute on your laptop. If this command takes too long, ask for help."
   ]
  },
  {
   "cell_type": "code",
   "execution_count": 60,
   "metadata": {},
   "outputs": [
    {
     "ename": "ValueError",
     "evalue": "incompatible input dimensions (1, 2)",
     "output_type": "error",
     "traceback": [
      "\u001b[31m---------------------------------------------------------------------------\u001b[39m",
      "\u001b[31mValueError\u001b[39m                                Traceback (most recent call last)",
      "\u001b[36mCell\u001b[39m\u001b[36m \u001b[39m\u001b[32mIn[60]\u001b[39m\u001b[32m, line 5\u001b[39m\n\u001b[32m      1\u001b[39m steps = \u001b[32m1000\u001b[39m\n\u001b[32m      3\u001b[39m sampler = emcee.EnsembleSampler(n_walkers, n_params, log_likelihood, args)\n\u001b[32m----> \u001b[39m\u001b[32m5\u001b[39m \u001b[43msampler\u001b[49m\u001b[43m.\u001b[49m\u001b[43mrun_mcmc\u001b[49m\u001b[43m(\u001b[49m\u001b[43minitial_guesses\u001b[49m\u001b[43m,\u001b[49m\u001b[43m \u001b[49m\u001b[43msteps\u001b[49m\u001b[43m)\u001b[49m\n",
      "\u001b[36mFile \u001b[39m\u001b[32m~\\miniforge3\\Lib\\site-packages\\emcee\\ensemble.py:450\u001b[39m, in \u001b[36mEnsembleSampler.run_mcmc\u001b[39m\u001b[34m(self, initial_state, nsteps, **kwargs)\u001b[39m\n\u001b[32m    447\u001b[39m     initial_state = \u001b[38;5;28mself\u001b[39m._previous_state\n\u001b[32m    449\u001b[39m results = \u001b[38;5;28;01mNone\u001b[39;00m\n\u001b[32m--> \u001b[39m\u001b[32m450\u001b[39m \u001b[43m\u001b[49m\u001b[38;5;28;43;01mfor\u001b[39;49;00m\u001b[43m \u001b[49m\u001b[43mresults\u001b[49m\u001b[43m \u001b[49m\u001b[38;5;129;43;01min\u001b[39;49;00m\u001b[43m \u001b[49m\u001b[38;5;28;43mself\u001b[39;49m\u001b[43m.\u001b[49m\u001b[43msample\u001b[49m\u001b[43m(\u001b[49m\u001b[43minitial_state\u001b[49m\u001b[43m,\u001b[49m\u001b[43m \u001b[49m\u001b[43miterations\u001b[49m\u001b[43m=\u001b[49m\u001b[43mnsteps\u001b[49m\u001b[43m,\u001b[49m\u001b[43m \u001b[49m\u001b[43m*\u001b[49m\u001b[43m*\u001b[49m\u001b[43mkwargs\u001b[49m\u001b[43m)\u001b[49m\u001b[43m:\u001b[49m\n\u001b[32m    451\u001b[39m \u001b[43m    \u001b[49m\u001b[38;5;28;43;01mpass\u001b[39;49;00m\n\u001b[32m    453\u001b[39m \u001b[38;5;66;03m# Store so that the ``initial_state=None`` case will work\u001b[39;00m\n",
      "\u001b[36mFile \u001b[39m\u001b[32m~\\miniforge3\\Lib\\site-packages\\emcee\\ensemble.py:315\u001b[39m, in \u001b[36mEnsembleSampler.sample\u001b[39m\u001b[34m(self, initial_state, log_prob0, rstate0, blobs0, iterations, tune, skip_initial_state_check, thin_by, thin, store, progress, progress_kwargs)\u001b[39m\n\u001b[32m    313\u001b[39m state_shape = np.shape(state.coords)\n\u001b[32m    314\u001b[39m \u001b[38;5;28;01mif\u001b[39;00m state_shape != (\u001b[38;5;28mself\u001b[39m.nwalkers, \u001b[38;5;28mself\u001b[39m.ndim):\n\u001b[32m--> \u001b[39m\u001b[32m315\u001b[39m     \u001b[38;5;28;01mraise\u001b[39;00m \u001b[38;5;167;01mValueError\u001b[39;00m(\u001b[33mf\u001b[39m\u001b[33m\"\u001b[39m\u001b[33mincompatible input dimensions \u001b[39m\u001b[38;5;132;01m{\u001b[39;00mstate_shape\u001b[38;5;132;01m}\u001b[39;00m\u001b[33m\"\u001b[39m)\n\u001b[32m    316\u001b[39m \u001b[38;5;28;01mif\u001b[39;00m (\u001b[38;5;129;01mnot\u001b[39;00m skip_initial_state_check) \u001b[38;5;129;01mand\u001b[39;00m (\n\u001b[32m    317\u001b[39m     \u001b[38;5;129;01mnot\u001b[39;00m walkers_independent(state.coords)\n\u001b[32m    318\u001b[39m ):\n\u001b[32m    319\u001b[39m     \u001b[38;5;28;01mraise\u001b[39;00m \u001b[38;5;167;01mValueError\u001b[39;00m(\n\u001b[32m    320\u001b[39m         \u001b[33m\"\u001b[39m\u001b[33mInitial state has a large condition number. \u001b[39m\u001b[33m\"\u001b[39m\n\u001b[32m    321\u001b[39m         \u001b[33m\"\u001b[39m\u001b[33mMake sure that your walkers are linearly independent for the \u001b[39m\u001b[33m\"\u001b[39m\n\u001b[32m    322\u001b[39m         \u001b[33m\"\u001b[39m\u001b[33mbest performance\u001b[39m\u001b[33m\"\u001b[39m\n\u001b[32m    323\u001b[39m     )\n",
      "\u001b[31mValueError\u001b[39m: incompatible input dimensions (1, 2)"
     ]
    }
   ],
   "source": [
    "steps = 1000\n",
    "\n",
    "sampler = emcee.EnsembleSampler(n_walkers, n_params, log_likelihood, args)\n",
    "\n",
    "sampler.run_mcmc(initial_guesses, steps)"
   ]
  },
  {
   "cell_type": "markdown",
   "metadata": {},
   "source": [
    "## Plot the Results\n",
    "First make a plot of the walker positions (value of each parameter) at each step. Write a function to do this, since you'll be using it a lot."
   ]
  },
  {
   "cell_type": "code",
   "execution_count": null,
   "metadata": {},
   "outputs": [],
   "source": [
    "print(sampler.chain.shape)  # check that this has dimensions (n_walkers, n_steps, n_params)\n",
    "\n",
    "def chain_plots(chain, **kwargs):\n",
    "    \"\"\"\n",
    "    Plot the histories for each walker in sampler.chain\n",
    "    \n",
    "    Parameters\n",
    "    ----------\n",
    "    chain: ndarray\n",
    "        3D array given by sampler.flatchain, with shape (n_walkers, n_steps, n_params)\n",
    "    kwargs: `.Line2D` properties, optional\n",
    "        All keyword arguments are passed to `pyplot.plot`\n",
    "    \"\"\"\n",
    "    \n",
    "    plt.figure()\n",
    "    plt.plot(  # complete\n",
    "    plt.xlabel('Step Number')\n",
    "    plt.ylabel('Slope, m')\n",
    "\n",
    "    plt.figure()\n",
    "    plt.plot(  # complete\n",
    "    plt.xlabel('Step Number')\n",
    "    plt.ylabel('Intercept, b')\n",
    "    \n",
    "chain_plots(sampler.chain)"
   ]
  },
  {
   "cell_type": "markdown",
   "metadata": {},
   "source": [
    "Each one of those colored lines is a walker. They started out at your initial guesses. What do you immediately notice?\n",
    "\n",
    "Try making more useful plots by zooming in on the relevant parts. Hint: you can adjust line opacity in matplotlib with the `alpha` parameter."
   ]
  },
  {
   "cell_type": "code",
   "execution_count": null,
   "metadata": {},
   "outputs": [],
   "source": [
    "n_burn =  # complete\n",
    "chain_plots(  # complete\n",
    "chain_plots(  # complete"
   ]
  },
  {
   "cell_type": "markdown",
   "metadata": {},
   "source": [
    "Are your chains converged? How many steps did it take for this to happen? This is called the \"burn-in\" period. **From now on, only use the steps after the burn-in period.**\n",
    "\n",
    "Now make a scatter plot of the two parameters, one point for each walker-step. Hint: `sampler.flatchain`."
   ]
  },
  {
   "cell_type": "code",
   "execution_count": null,
   "metadata": {},
   "outputs": [],
   "source": [
    "# complete"
   ]
  },
  {
   "cell_type": "markdown",
   "metadata": {},
   "source": [
    "How does this compare to the distribution you had in the previous notebook (assuming you used the same parameters)?\n",
    "\n",
    "Now let's marginalize over each parameter. Given that we have walkers that are distributed according to the 2D posterior, think about how to calculate the marginalized posterior for each parameter."
   ]
  },
  {
   "cell_type": "code",
   "execution_count": null,
   "metadata": {},
   "outputs": [],
   "source": [
    "plt.figure()\n",
    "# complete\n",
    "\n",
    "plt.figure()\n",
    "# complete"
   ]
  },
  {
   "cell_type": "markdown",
   "metadata": {},
   "source": [
    "Calculate the medians and the 68% ($1\\sigma$) confidence intervals for each parameter. Check your answers against the centers and widths of the distributions you just plotted above. Do they look about right?"
   ]
  },
  {
   "cell_type": "code",
   "execution_count": null,
   "metadata": {},
   "outputs": [],
   "source": [
    "# complete\n",
    "print(f'$m = {m_med:.2f}_{{{dm_lo:+.2f}}}^{{{dm_hi:+.2f}}}$')\n",
    "\n",
    "# complete\n",
    "print(f'$b = {b_med:.2f}_{{{db_lo:+.2f}}}^{{{db_hi:+.2f}}}$')"
   ]
  },
  {
   "cell_type": "markdown",
   "metadata": {},
   "source": [
    "There's an easy way to generate all these plots and summary statistics: `corner.corner`! Produce a corner plot with the true parameters labeled and the best-fit values (with error bars) printed on the plot. How close did we get to the parameters we used to generate the data?"
   ]
  },
  {
   "cell_type": "code",
   "execution_count": null,
   "metadata": {},
   "outputs": [],
   "source": [
    "corner.corner(  # complete"
   ]
  },
  {
   "cell_type": "markdown",
   "metadata": {},
   "source": [
    "## Take-Away Message\n",
    "MCMC is a much more efficient way to sample the probability distribution because the walkers mostly stay in the highest-probability region. Plus it essentially gives you the marginalized posteriors for free, because the density of walkers matches the probability density."
   ]
  },
  {
   "cell_type": "markdown",
   "metadata": {},
   "source": [
    "## Other Things to Try\n",
    "- Add a parameter for the intrinsic scatter and redo the MCMC fit.\n",
    "- Try implementing Metropolis-Hastings algorithm yourself and see if you can get the same results as `emcee`."
   ]
  }
 ],
 "metadata": {
  "kernelspec": {
   "display_name": "Python 3 (ipykernel)",
   "language": "python",
   "name": "python3"
  },
  "language_info": {
   "codemirror_mode": {
    "name": "ipython",
    "version": 3
   },
   "file_extension": ".py",
   "mimetype": "text/x-python",
   "name": "python",
   "nbconvert_exporter": "python",
   "pygments_lexer": "ipython3",
   "version": "3.12.9"
  },
  "toc": {
   "base_numbering": 1,
   "nav_menu": {},
   "number_sections": true,
   "sideBar": true,
   "skip_h1_title": false,
   "title_cell": "Table of Contents",
   "title_sidebar": "Contents",
   "toc_cell": false,
   "toc_position": {},
   "toc_section_display": true,
   "toc_window_display": true
  }
 },
 "nbformat": 4,
 "nbformat_minor": 4
}
